{
 "cells": [
  {
   "cell_type": "code",
   "execution_count": 2,
   "id": "6dc38663",
   "metadata": {},
   "outputs": [
    {
     "name": "stdout",
     "output_type": "stream",
     "text": [
      "introduction to programing\n"
     ]
    }
   ],
   "source": [
    "#exercise 00\n",
    "print(\"introduction to programing\")"
   ]
  },
  {
   "cell_type": "code",
   "execution_count": 7,
   "id": "f10f090a",
   "metadata": {},
   "outputs": [
    {
     "name": "stdout",
     "output_type": "stream",
     "text": [
      "Xuepu Sun\n",
      "ucbvund@ucl.ac.uk\n",
      "28\n"
     ]
    }
   ],
   "source": [
    "#exercise 02\n",
    "name='Xuepu Sun'\n",
    "email=\"ucbvund@ucl.ac.uk\"\n",
    "age=\"28\"\n",
    "print(name+\"\\n\"+email+\"\\n\"+age)"
   ]
  },
  {
   "cell_type": "code",
   "execution_count": 32,
   "id": "e3525e2a",
   "metadata": {},
   "outputs": [
    {
     "name": "stdout",
     "output_type": "stream",
     "text": [
      "0\n",
      "178\n",
      "-21\n",
      "59.95918367346939\n",
      "43452864\n",
      "3833759992447475122176\n"
     ]
    }
   ],
   "source": [
    "#exercise 03\n",
    "number_list = [0,178,-21,2938/49,4368*9948,12**20]\n",
    "for number in number_list:\n",
    "    print(number)"
   ]
  },
  {
   "cell_type": "code",
   "execution_count": 37,
   "id": "692710d2",
   "metadata": {},
   "outputs": [
    {
     "name": "stdout",
     "output_type": "stream",
     "text": [
      "-0.34202014332566866\n",
      "-0.1736481776669303\n",
      "0.9999999999999999\n"
     ]
    }
   ],
   "source": [
    "#exercise 04\n",
    "import math\n",
    "print(sin(radians(200)))\n",
    "print(cos(radians(100)))\n",
    "print(tan(pi/4))"
   ]
  },
  {
   "cell_type": "code",
   "execution_count": 5,
   "id": "67d64b38",
   "metadata": {},
   "outputs": [
    {
     "name": "stdout",
     "output_type": "stream",
     "text": [
      "xuepu\n",
      "sun\n",
      "xuepusun\n"
     ]
    }
   ],
   "source": [
    "#exercise05\n",
    "first_name=input()\n",
    "last_name=input()\n",
    "print(first_name+''+last_name)"
   ]
  },
  {
   "cell_type": "code",
   "execution_count": 8,
   "id": "69e2e599",
   "metadata": {},
   "outputs": [
    {
     "name": "stdout",
     "output_type": "stream",
     "text": [
      "enter a number for detection ↓\n",
      "8888\n",
      "the number is positive\n"
     ]
    }
   ],
   "source": [
    "#excercise 06\n",
    "str=(\"enter a number for detection ↓\")\n",
    "print(str)\n",
    "number=float(input())\n",
    "if  number>0:\n",
    "    print(\"the number is positive\")\n",
    "elif number<0:\n",
    "     print(\"the number is negative\")\n",
    "else:\n",
    "     print('the number is 0 which is  either positive or negative')"
   ]
  },
  {
   "cell_type": "code",
   "execution_count": 20,
   "id": "e12a7eaf",
   "metadata": {},
   "outputs": [
    {
     "name": "stdout",
     "output_type": "stream",
     "text": [
      "1\n",
      "2\n",
      "Congratulations, you guessed it!\n",
      "set your lower range:\n",
      "1\n",
      "set your upper range:\n",
      "5\n",
      "make a guess\n",
      "1\n",
      "Congratulations, you guessed it in 1!\n"
     ]
    }
   ],
   "source": [
    "#excercise 07\n",
    "import random\n",
    "random_number=random.randint(1,20)\n",
    "guessed_number = int(input())\n",
    "while not random_number == guessed_number:\n",
    "    guessed_number = int(input())\n",
    "print('Congratulations, you guessed it!')\n",
    "import random\n",
    "print('set your lower range:')\n",
    "lower = int(input())\n",
    "print('set your upper range:')\n",
    "upper = int(input())\n",
    "\n",
    "random_number = random.randint(lr,ur)\n",
    "nr_guesses = 0\n",
    "\n",
    "while not random_number == guessed_number:\n",
    "    print('make a guess')\n",
    "    nr_guesses +=1\n",
    "    guessed_number = int(input())\n",
    "print(f'Congratulations, you guessed it in {nr_guesses}!')"
   ]
  },
  {
   "cell_type": "code",
   "execution_count": 24,
   "id": "edf20c09",
   "metadata": {},
   "outputs": [
    {
     "name": "stdout",
     "output_type": "stream",
     "text": [
      "I like apples and bananas.\n",
      "['I', 'and', 'apples', 'bananas.', 'like']\n"
     ]
    }
   ],
   "source": [
    "#Exercise 08\n",
    "sentence=input()\n",
    "words=sentence.split(\" \")\n",
    "words.sort()\n",
    "print(words)"
   ]
  },
  {
   "cell_type": "code",
   "execution_count": 41,
   "id": "63f5cb11",
   "metadata": {},
   "outputs": [
    {
     "name": "stdout",
     "output_type": "stream",
     "text": [
      "I like apples and bananas.\n",
      "['and', 'apples', 'bananas.', 'I', 'like']\n"
     ]
    }
   ],
   "source": [
    "sentence = input()\n",
    "words = sentence.split(\" \")\n",
    "words.sort(key = lambda x : x.lower())\n",
    "print(words)"
   ]
  },
  {
   "cell_type": "code",
   "execution_count": 47,
   "id": "261d67bb",
   "metadata": {},
   "outputs": [
    {
     "name": "stdout",
     "output_type": "stream",
     "text": [
      "11\n",
      "          *\n",
      "         ***\n",
      "        *****\n",
      "       *******\n",
      "      *********\n",
      "     ***********\n",
      "    *************\n",
      "   ***************\n",
      "  *****************\n",
      " *******************\n",
      "*********************\n",
      "          |\n"
     ]
    }
   ],
   "source": [
    "#Exercise 09\n",
    "height = int(input())\n",
    "\n",
    "for i in range(1,height+1):\n",
    "    blank = ' '*(height-i)\n",
    "    stars = '*'*(i+i-1)\n",
    "    pic = blank + stars\n",
    "    print(pic)\n",
    "print(' '*(height-1) + '|')"
   ]
  },
  {
   "cell_type": "code",
   "execution_count": 48,
   "id": "6a37f51d",
   "metadata": {},
   "outputs": [
    {
     "name": "stdout",
     "output_type": "stream",
     "text": [
      "33\n",
      "1\n",
      "1\n",
      "1\n",
      "2\n",
      "2\n",
      "3\n",
      "4\n",
      "5\n",
      "7\n",
      "9\n",
      "12\n",
      "16\n",
      "21\n",
      "28\n",
      "37\n",
      "49\n",
      "65\n",
      "86\n",
      "114\n",
      "151\n",
      "200\n",
      "265\n",
      "351\n",
      "465\n",
      "616\n",
      "816\n",
      "1081\n",
      "1432\n",
      "1897\n",
      "2513\n",
      "3329\n",
      "4410\n",
      "5842\n"
     ]
    }
   ],
   "source": [
    "#Exercise 10\n",
    "p0 = 1\n",
    "p1 = 1\n",
    "p2 = 1\n",
    "\n",
    "n = int(input())\n",
    "for i in range(n):\n",
    "    print(p0)\n",
    "    m = p0 + p1\n",
    "    p0 = p1\n",
    "    p1 = p2\n",
    "    p2 = m"
   ]
  },
  {
   "cell_type": "code",
   "execution_count": null,
   "id": "c0166ad4",
   "metadata": {},
   "outputs": [],
   "source": []
  }
 ],
 "metadata": {
  "kernelspec": {
   "display_name": "Python 3 (ipykernel)",
   "language": "python",
   "name": "python3"
  },
  "language_info": {
   "codemirror_mode": {
    "name": "ipython",
    "version": 3
   },
   "file_extension": ".py",
   "mimetype": "text/x-python",
   "name": "python",
   "nbconvert_exporter": "python",
   "pygments_lexer": "ipython3",
   "version": "3.11.5"
  }
 },
 "nbformat": 4,
 "nbformat_minor": 5
}
