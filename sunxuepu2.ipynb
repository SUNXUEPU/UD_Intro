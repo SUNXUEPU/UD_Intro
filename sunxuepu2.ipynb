{
 "cells": [
  {
   "cell_type": "code",
   "execution_count": 35,
   "id": "a656ee01",
   "metadata": {
    "scrolled": true
   },
   "outputs": [
    {
     "name": "stdout",
     "output_type": "stream",
     "text": [
      "[0, 5, 10, 15, 20, 25, 30, 35, 40, 45, 50, 55, 60, 65, 70, 75, 80, 85, 90, 95]\n"
     ]
    }
   ],
   "source": [
    "#Exercise 00\n",
    "#Write a piece of code that allocates a list of 20 integers and initializes each element by its index multiplied by 5. Print the result.\n",
    "list = []\n",
    "for s  in range(20):\n",
    "    list.append(s*5)\n",
    "print(list)"
   ]
  },
  {
   "cell_type": "code",
   "execution_count": 36,
   "id": "429d5614",
   "metadata": {},
   "outputs": [],
   "source": [
    "#Exercise 01\n",
    "#Define a function that takes an integer as input, prints all integers that it is divisable by, and returns the largest one.\n",
    "def function1(n):\n",
    "    i=1\n",
    "    for number in range(1,n-1):\n",
    "        if n%number ==  0:\n",
    "            i=number\n",
    "            print(number)\n",
    "    return i"
   ]
  },
  {
   "cell_type": "code",
   "execution_count": 37,
   "id": "1f958f2b",
   "metadata": {},
   "outputs": [
    {
     "name": "stdout",
     "output_type": "stream",
     "text": [
      "1\n",
      "2\n",
      "3\n",
      "6\n",
      "9\n"
     ]
    },
    {
     "data": {
      "text/plain": [
       "9"
      ]
     },
     "execution_count": 37,
     "metadata": {},
     "output_type": "execute_result"
    }
   ],
   "source": [
    "function1(18)"
   ]
  },
  {
   "cell_type": "code",
   "execution_count": 34,
   "id": "22fd75f8",
   "metadata": {},
   "outputs": [],
   "source": [
    "#Exercise 02\n",
    "#create a dictionary with 6 keys and values of your choice\n",
    "#write a function that takes a dictionary and a value as input and returns whether the value occurs as a key in the dictionary\n",
    "#write a function that takes a dictionary as input, and returns the dictionary but the keys are swapped with their values (resolve the issue if a value occurs twice!)z"
   ]
  },
  {
   "cell_type": "code",
   "execution_count": 71,
   "id": "91df2a37",
   "metadata": {},
   "outputs": [],
   "source": [
    "my_dict = {\n",
    "    \"apple\": \"red\",\n",
    "    \"banana\": \"yellow\",\n",
    "    \"cherry\": \"red\",\n",
    "    \"date\": \"brown\",\n",
    "    \"elderberry\": \"purple\",\n",
    "    \"fig\": \"green\"\n",
    "}\n"
   ]
  },
  {
   "cell_type": "code",
   "execution_count": 72,
   "id": "c8f51eb6",
   "metadata": {},
   "outputs": [],
   "source": [
    "def value_occurs_as_key(input_dict, value):\n",
    "    return value in input_dict.keys()\n"
   ]
  },
  {
   "cell_type": "code",
   "execution_count": 74,
   "id": "dcb3b037",
   "metadata": {},
   "outputs": [
    {
     "name": "stdout",
     "output_type": "stream",
     "text": [
      "True\n"
     ]
    }
   ],
   "source": [
    "result = value_occurs_as_key(my_dict, \"fig\")\n",
    "print(result)"
   ]
  },
  {
   "cell_type": "code",
   "execution_count": null,
   "id": "ded9451c",
   "metadata": {},
   "outputs": [],
   "source": [
    "#Exercise 03\n",
    "#Define a function that creates a dictionary of the first n fibonacci numbers as values paired with their indices as keys."
   ]
  },
  {
   "cell_type": "code",
   "execution_count": 75,
   "id": "592aaf29",
   "metadata": {},
   "outputs": [],
   "source": [
    "def mydict(n):\n",
    "    fibonacci = {}\n",
    "    v1 = 0\n",
    "    v2 = 1\n",
    "    for i in range(n):\n",
    "        fibonacci[i]=v1\n",
    "        t = v1 + v2\n",
    "        v1 = v2\n",
    "        v2 = t\n",
    "    return fibonacci"
   ]
  },
  {
   "cell_type": "code",
   "execution_count": 77,
   "id": "c1e17f62",
   "metadata": {},
   "outputs": [
    {
     "data": {
      "text/plain": [
       "{0: 0, 1: 1, 2: 1, 3: 2, 4: 3, 5: 5, 6: 8, 7: 13, 8: 21, 9: 34}"
      ]
     },
     "execution_count": 77,
     "metadata": {},
     "output_type": "execute_result"
    }
   ],
   "source": [
    "mydict(10)"
   ]
  },
  {
   "cell_type": "code",
   "execution_count": null,
   "id": "9a436cbc",
   "metadata": {},
   "outputs": [],
   "source": []
  }
 ],
 "metadata": {
  "kernelspec": {
   "display_name": "Python 3 (ipykernel)",
   "language": "python",
   "name": "python3"
  },
  "language_info": {
   "codemirror_mode": {
    "name": "ipython",
    "version": 3
   },
   "file_extension": ".py",
   "mimetype": "text/x-python",
   "name": "python",
   "nbconvert_exporter": "python",
   "pygments_lexer": "ipython3",
   "version": "3.11.5"
  }
 },
 "nbformat": 4,
 "nbformat_minor": 5
}
